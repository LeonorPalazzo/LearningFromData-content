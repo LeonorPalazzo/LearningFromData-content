{
 "cells": [
  {
   "cell_type": "markdown",
   "metadata": {},
   "source": [
    "# Exercise: Linear algebra operations with `numpy`"
   ]
  },
  {
   "cell_type": "markdown",
   "metadata": {},
   "source": [
    "[NumPy](https://numpy.org/) is the library that gives Python its ability to work with numerical data at speed. This exercise will demonstrate how to use `numpy` for common tasks such as the creation and manipulation of arrays, linear algebra operations, and statistical operations. Some of the content is inspired by one (out of many) [cheat sheets](https://github.com/Nothingaholic/python-cheat-sheet) found on [github](httops://github.com)."
   ]
  },
  {
   "cell_type": "markdown",
   "metadata": {},
   "source": [
    "The structure of this note:\n",
    "\n",
    "- N-dimensional arrays\n",
    "- Array shape manipulations\n",
    "- Numerical operations on array\n",
    "- Array manipulations routines ( select and split)\n",
    "- Statistical operations"
   ]
  },
  {
   "cell_type": "code",
   "execution_count": 1,
   "metadata": {},
   "outputs": [],
   "source": [
    "import numpy as np"
   ]
  },
  {
   "cell_type": "markdown",
   "metadata": {},
   "source": [
    "# Create Arrays"
   ]
  },
  {
   "cell_type": "code",
   "execution_count": 207,
   "metadata": {},
   "outputs": [
    {
     "data": {
      "text/plain": [
       "array([1, 2, 3])"
      ]
     },
     "execution_count": 207,
     "metadata": {},
     "output_type": "execute_result"
    }
   ],
   "source": [
    "# Create 1 dimensional array (vector)\n",
    "np.array([1,2,3]) # Create vector as a row"
   ]
  },
  {
   "cell_type": "code",
   "execution_count": 208,
   "metadata": {},
   "outputs": [
    {
     "data": {
      "text/plain": [
       "array([[1],\n",
       "       [2],\n",
       "       [3]])"
      ]
     },
     "execution_count": 208,
     "metadata": {},
     "output_type": "execute_result"
    }
   ],
   "source": [
    "np.array([[1],[2],[3]]) #Create vector as a column\n"
   ]
  },
  {
   "cell_type": "code",
   "execution_count": 211,
   "metadata": {},
   "outputs": [
    {
     "data": {
      "text/plain": [
       "array([[1, 2, 3],\n",
       "       [4, 5, 6]])"
      ]
     },
     "execution_count": 211,
     "metadata": {},
     "output_type": "execute_result"
    }
   ],
   "source": [
    "np.array([(1,2,3),(4,5,6)]) # Two dimensional array"
   ]
  },
  {
   "cell_type": "code",
   "execution_count": 212,
   "metadata": {},
   "outputs": [
    {
     "name": "stdout",
     "output_type": "stream",
     "text": [
      "  (1, 1)\t1\n",
      "  (2, 0)\t3\n"
     ]
    }
   ],
   "source": [
    "from scipy import sparse\n",
    "matrix_large = np.array([[0, 0, 0, 0, 0, 0, 0, 0, 0, 0],\n",
    "                         [0, 1, 0, 0, 0, 0, 0, 0, 0, 0],\n",
    "                         [3, 0, 0, 0, 0, 0, 0, 0, 0, 0]])\n",
    "# Create compressed sparse row (CSR) matrix\n",
    "matrix_large_sparse = sparse.csr_matrix(matrix_large)\n",
    "print(matrix_large_sparse)"
   ]
  },
  {
   "cell_type": "code",
   "execution_count": 215,
   "metadata": {},
   "outputs": [
    {
     "data": {
      "text/plain": [
       "array([0., 0., 0.])"
      ]
     },
     "execution_count": 215,
     "metadata": {},
     "output_type": "execute_result"
    }
   ],
   "source": [
    "# Create  1d array of zeros, length 3\n",
    "np.zeros(3) "
   ]
  },
  {
   "cell_type": "code",
   "execution_count": 216,
   "metadata": {},
   "outputs": [
    {
     "data": {
      "text/plain": [
       "array([[0., 0., 0.],\n",
       "       [0., 0., 0.]])"
      ]
     },
     "execution_count": 216,
     "metadata": {},
     "output_type": "execute_result"
    }
   ],
   "source": [
    "# 2x3 array of zeros\n",
    "np.zeros((2,3))"
   ]
  },
  {
   "cell_type": "code",
   "execution_count": 217,
   "metadata": {},
   "outputs": [
    {
     "data": {
      "text/plain": [
       "array([[1., 1., 1., 1.],\n",
       "       [1., 1., 1., 1.],\n",
       "       [1., 1., 1., 1.]])"
      ]
     },
     "execution_count": 217,
     "metadata": {},
     "output_type": "execute_result"
    }
   ],
   "source": [
    "# Create array of ones, 3x4 (3 rows, 4 columns)\n",
    "np.ones((3,4))"
   ]
  },
  {
   "cell_type": "code",
   "execution_count": 218,
   "metadata": {},
   "outputs": [
    {
     "data": {
      "text/plain": [
       "array([[1., 0., 0., 0., 0.],\n",
       "       [0., 1., 0., 0., 0.],\n",
       "       [0., 0., 1., 0., 0.],\n",
       "       [0., 0., 0., 1., 0.],\n",
       "       [0., 0., 0., 0., 1.]])"
      ]
     },
     "execution_count": 218,
     "metadata": {},
     "output_type": "execute_result"
    }
   ],
   "source": [
    "#  5x5 array of 0 with 1 on diagonal (Identity matrix)\n",
    "np.eye(5)"
   ]
  },
  {
   "cell_type": "code",
   "execution_count": 219,
   "metadata": {},
   "outputs": [
    {
     "data": {
      "text/plain": [
       "array([  0.,  20.,  40.,  60.,  80., 100.])"
      ]
     },
     "execution_count": 219,
     "metadata": {},
     "output_type": "execute_result"
    }
   ],
   "source": [
    "# Array of 6 evenly divided values from 0 to 100\n",
    "np.linspace(0,100,6)"
   ]
  },
  {
   "cell_type": "code",
   "execution_count": 220,
   "metadata": {},
   "outputs": [
    {
     "data": {
      "text/plain": [
       "array([0, 3, 6, 9])"
      ]
     },
     "execution_count": 220,
     "metadata": {},
     "output_type": "execute_result"
    }
   ],
   "source": [
    "# Array of values from 0 to less than 10 with step 3 \n",
    "np.arange(0,10,3)"
   ]
  },
  {
   "cell_type": "code",
   "execution_count": 221,
   "metadata": {},
   "outputs": [
    {
     "data": {
      "text/plain": [
       "array([[5, 5, 5],\n",
       "       [5, 5, 5]])"
      ]
     },
     "execution_count": 221,
     "metadata": {},
     "output_type": "execute_result"
    }
   ],
   "source": [
    "# 2x3 array with all values 5\n",
    "np.full((2,3),5)"
   ]
  },
  {
   "cell_type": "code",
   "execution_count": 223,
   "metadata": {},
   "outputs": [
    {
     "data": {
      "text/plain": [
       "array([[0.37174775, 0.59954596, 0.50488967],\n",
       "       [0.22703386, 0.59914441, 0.68547572]])"
      ]
     },
     "execution_count": 223,
     "metadata": {},
     "output_type": "execute_result"
    }
   ],
   "source": [
    "# 2x3 array of random floats between 0–1\n",
    "np.random.rand(2,3)"
   ]
  },
  {
   "cell_type": "code",
   "execution_count": 226,
   "metadata": {},
   "outputs": [
    {
     "data": {
      "text/plain": [
       "array([[23.17345972, 98.62743214, 21.40831291],\n",
       "       [87.08603104, 84.23376262, 63.90231179]])"
      ]
     },
     "execution_count": 226,
     "metadata": {},
     "output_type": "execute_result"
    }
   ],
   "source": [
    "# 2x3 array of random floats between 0–100\n",
    "np.random.rand(2,3)*100"
   ]
  },
  {
   "cell_type": "code",
   "execution_count": 227,
   "metadata": {},
   "outputs": [
    {
     "data": {
      "text/plain": [
       "array([[4, 2, 4],\n",
       "       [3, 3, 3]])"
      ]
     },
     "execution_count": 227,
     "metadata": {},
     "output_type": "execute_result"
    }
   ],
   "source": [
    "# 2x3 array with random ints between 0–4\n",
    "np.random.randint(5,size=(2,3))"
   ]
  },
  {
   "cell_type": "markdown",
   "metadata": {},
   "source": [
    "# Array shape manipulations"
   ]
  },
  {
   "cell_type": "code",
   "execution_count": 229,
   "metadata": {},
   "outputs": [
    {
     "data": {
      "text/plain": [
       "(2, 3)"
      ]
     },
     "execution_count": 229,
     "metadata": {},
     "output_type": "execute_result"
    }
   ],
   "source": [
    "arr = np.array([(1,2,3),(4,5,6)])\n",
    "arr.shape # Returns dimensions of arr (rows,columns)"
   ]
  },
  {
   "cell_type": "code",
   "execution_count": 232,
   "metadata": {},
   "outputs": [
    {
     "data": {
      "text/plain": [
       "array([[1, 2, 3],\n",
       "       [4, 5, 6]])"
      ]
     },
     "execution_count": 232,
     "metadata": {},
     "output_type": "execute_result"
    }
   ],
   "source": [
    "arr_to_list = arr.tolist() # Convert arr to a Python list\n",
    "np.array(arr_to_list) # Convert list to array"
   ]
  },
  {
   "cell_type": "code",
   "execution_count": null,
   "metadata": {},
   "outputs": [],
   "source": [
    "arr.size # Return number of elements in arr\n",
    "len(arr) #Length of arrayarr.ndim # Number of array dimension\n",
    "arr.dtype # Return type of elements in arr\n",
    "arr.dtype.name # Name of data type\n",
    "arr.astype(int) # Convert an array to a different type\n",
    "arr.astype(dtype) # Convert arr elements to type dtype\n",
    "np.info(np.eye) # View documentation for np.eye"
   ]
  },
  {
   "cell_type": "code",
   "execution_count": 234,
   "metadata": {},
   "outputs": [
    {
     "data": {
      "text/plain": [
       "array([[4, 5, 6, 8],\n",
       "       [1, 2, 4, 8],\n",
       "       [1, 2, 4, 5]])"
      ]
     },
     "execution_count": 234,
     "metadata": {},
     "output_type": "execute_result"
    }
   ],
   "source": [
    "# Sort\n",
    "oned_arr = np.array([3,8,5,1])\n",
    "np.sort(oned_arr)\n",
    "arr = np.array([[5, 4, 6, 8],\n",
    "                [1, 2, 4, 8],\n",
    "                [1, 5, 2, 4]])\n",
    "# sort each column of arr\n",
    "np.sort(arr, axis=0)\n",
    "\n",
    "# sort each row of X\n",
    "np.sort(arr, axis=1)"
   ]
  },
  {
   "cell_type": "code",
   "execution_count": 237,
   "metadata": {},
   "outputs": [
    {
     "name": "stdout",
     "output_type": "stream",
     "text": [
      "(10,)\n",
      "[[ 1  2  3  4  5]\n",
      " [ 6  7  8  9 10]]\n"
     ]
    },
    {
     "data": {
      "text/plain": [
       "array([[ 1,  2,  3,  4,  5],\n",
       "       [ 6,  7,  8,  9, 10]])"
      ]
     },
     "execution_count": 237,
     "metadata": {},
     "output_type": "execute_result"
    }
   ],
   "source": [
    "# Reshaping\n",
    "arr1 = np.arange(1, 11)  # numbers 1 to 10\n",
    "print(arr1.shape) # Prints a tuple for the one dimension.\n",
    "\n",
    "arr1_2d = arr1.reshape(2, 5)\n",
    "print(arr1_2d)\n",
    "\n",
    "arr1.reshape(2, 5)\n",
    "arr1.reshape(-1, 5)  # same as above: arr1.reshape(2, 5)\n",
    "arr1.reshape(2, -1)  # same as above: arr1.reshape(2, 5)\n"
   ]
  },
  {
   "cell_type": "code",
   "execution_count": 239,
   "metadata": {},
   "outputs": [
    {
     "data": {
      "text/plain": [
       "array([[ 1,  6],\n",
       "       [ 2,  7],\n",
       "       [ 3,  8],\n",
       "       [ 4,  9],\n",
       "       [ 5, 10]])"
      ]
     },
     "execution_count": 239,
     "metadata": {},
     "output_type": "execute_result"
    }
   ],
   "source": [
    "# Transpose\n",
    "arr1_2d.T"
   ]
  },
  {
   "cell_type": "code",
   "execution_count": 241,
   "metadata": {},
   "outputs": [
    {
     "data": {
      "text/plain": [
       "array([ 1,  2,  3,  4,  5,  6,  7,  8,  9, 10])"
      ]
     },
     "execution_count": 241,
     "metadata": {},
     "output_type": "execute_result"
    }
   ],
   "source": [
    "# Flattening a Matrix\n",
    "arr1_2d.flatten()"
   ]
  },
  {
   "cell_type": "code",
   "execution_count": 243,
   "metadata": {},
   "outputs": [
    {
     "data": {
      "text/plain": [
       "array([[ 1,  2,  3,  4],\n",
       "       [ 5,  6,  7,  8],\n",
       "       [ 9, 10,  1,  2]])"
      ]
     },
     "execution_count": 243,
     "metadata": {},
     "output_type": "execute_result"
    }
   ],
   "source": [
    "# Resize arr1_2d to 3 rows, 4 columns \n",
    "np.resize(arr1_2d, (3,4))"
   ]
  },
  {
   "cell_type": "code",
   "execution_count": 245,
   "metadata": {},
   "outputs": [
    {
     "data": {
      "text/plain": [
       "array([[-2. ,  1. ],\n",
       "       [ 1.5, -0.5]])"
      ]
     },
     "execution_count": 245,
     "metadata": {},
     "output_type": "execute_result"
    }
   ],
   "source": [
    "# Invert\n",
    "matrix = np.array([[1, 2],\n",
    "                   [3, 4]])\n",
    "# Calculate inverse of matrix\n",
    "np.linalg.inv(matrix)"
   ]
  },
  {
   "cell_type": "markdown",
   "metadata": {},
   "source": [
    "**Insert numpy linalg cells here!!**"
   ]
  },
  {
   "cell_type": "markdown",
   "metadata": {},
   "source": [
    "# Numerical Operations"
   ]
  },
  {
   "cell_type": "code",
   "execution_count": 247,
   "metadata": {},
   "outputs": [
    {
     "data": {
      "text/plain": [
       "6"
      ]
     },
     "execution_count": 247,
     "metadata": {},
     "output_type": "execute_result"
    }
   ],
   "source": [
    "arr = np.array([[2, 0, 0], [0, 2, 0], [0, 0, 2]])\n",
    "np.trace(arr)"
   ]
  },
  {
   "cell_type": "code",
   "execution_count": 249,
   "metadata": {},
   "outputs": [
    {
     "data": {
      "text/plain": [
       "0.0"
      ]
     },
     "execution_count": 249,
     "metadata": {},
     "output_type": "execute_result"
    }
   ],
   "source": [
    "# Determinant\n",
    "matrix = np.array([[1, 2, 3],\n",
    "                   [2, 4, 6],\n",
    "                   [3, 8, 9]])\n",
    "# Return determinant of matrix\n",
    "np.linalg.det(matrix)"
   ]
  },
  {
   "cell_type": "code",
   "execution_count": 251,
   "metadata": {},
   "outputs": [
    {
     "data": {
      "text/plain": [
       "3"
      ]
     },
     "execution_count": 251,
     "metadata": {},
     "output_type": "execute_result"
    }
   ],
   "source": [
    "# Rank of a matrix\n",
    "matrix = np.array([[1, 1, 3],\n",
    "                   [1, 2, 4],\n",
    "                   [1, 3, 0]])\n",
    "# Return matrix rank\n",
    "np.linalg.matrix_rank(matrix)"
   ]
  },
  {
   "cell_type": "code",
   "execution_count": 253,
   "metadata": {},
   "outputs": [],
   "source": [
    "# Eigenvalues and Eigenvectors\n",
    "matrix = np.array([[0, 1, 2],\n",
    "                   [3, 4, 5],\n",
    "                   [6, 7, 8]])\n",
    "# Calculate eigenvalues and eigenvectors\n",
    "eigenvalues, eigenvectors = np.linalg.eig(matrix)"
   ]
  },
  {
   "cell_type": "code",
   "execution_count": 256,
   "metadata": {},
   "outputs": [
    {
     "data": {
      "text/plain": [
       "array([ 2,  3,  4,  5,  6,  7,  8,  9, 10])"
      ]
     },
     "execution_count": 256,
     "metadata": {},
     "output_type": "execute_result"
    }
   ],
   "source": [
    "# Scalar Operations\n",
    "new_arr = np.arange(1,10)\n",
    "\n",
    "# Add 1 to each array element\n",
    "np.add(new_arr,1)\n",
    "\n",
    "np.subtract(arr,2) # Subtract 2 from each array element\n",
    "np.multiply(arr,3) # Multiply each array element by 3\n",
    "np.divide(arr,4) # Divide each array element by 4 (returns np.nan for division by zero)\n",
    "np.power(arr,5) # Raise each array element to the 5th power"
   ]
  },
  {
   "cell_type": "code",
   "execution_count": null,
   "metadata": {},
   "outputs": [],
   "source": [
    "# Matrics  Operations\n",
    "np.add(arr1,arr2) # Elementwise add arr2 to arr1\n",
    "np.subtract(arr1,arr2) # Elementwise subtract arr2 from arr1\n",
    "np.multiply(arr1,arr2) # Elementwise multiply arr1 by arr2\n",
    "np.divide(arr1,arr2) # Elementwise divide arr1 by arr2\n",
    "np.power(arr1,arr2) # Elementwise raise arr1 raised to the power of arr2\n",
    "np.array_equal(arr1,arr2) # Returns True if the arrays have the same elements and shape"
   ]
  },
  {
   "cell_type": "code",
   "execution_count": null,
   "metadata": {},
   "outputs": [],
   "source": [
    "np.sqrt(arr) # Square root of each element in the array\n",
    "np.sin(arr) # Sine of each element in the array\n",
    "np.log(arr) # Natural log of each element in the array\n",
    "np.abs(arr) # Absolute value of each element in the array\n",
    "np.ceil(arr) # Rounds up to the nearest int\n",
    "np.floor(arr) # Rounds down to the nearest int\n",
    "np.round(arr) # Rounds to the nearest int"
   ]
  },
  {
   "cell_type": "markdown",
   "metadata": {},
   "source": [
    "# Array Manipulation Routines"
   ]
  },
  {
   "cell_type": "code",
   "execution_count": null,
   "metadata": {},
   "outputs": [],
   "source": [
    "# Adding/removing Elements\n",
    "np.append ([0, 1, 2], [[3, 4, 5], [6, 7, 8]])\n",
    "np.append([[0, 1, 2], [3, 4, 5]],[[6, 7, 8]], axis=0)\n",
    "np.insert(arr,2,10) # Inserts 10 into arr before index 2\n",
    "np.delete(arr,2,axis=0) # Deletes row on index 2 of arr\n",
    "np.delete(arr,3,axis=1) # Deletes column on index 3 of arr"
   ]
  },
  {
   "cell_type": "code",
   "execution_count": null,
   "metadata": {},
   "outputs": [],
   "source": [
    "# Koin arrays\n",
    "# Adds arr2 as rows to the end of arr1\n",
    "arr = np.concatenate((arr1, arr2), axis=0)\n",
    "# Adds arr2 as columns to end of arr1\n",
    "arr = np.concatenate((arr1,arr2),axis=1)\n"
   ]
  },
  {
   "cell_type": "code",
   "execution_count": null,
   "metadata": {},
   "outputs": [],
   "source": [
    "# Splitting NumPy Arrays\n",
    "# Splits arr into 4 sub-arrays\n",
    "newarr = np.array_split(arr, 4) \n",
    "\n",
    "# Splits arr horizontally on the 2nd index\n",
    "newarr = np.hsplit(arr, 2)"
   ]
  },
  {
   "cell_type": "code",
   "execution_count": null,
   "metadata": {},
   "outputs": [],
   "source": [
    "# Selecting elements\n",
    "user_name = np.array(['Katie','Bob','Scott','Liz','Sam'])\n",
    "articles = np.array([100, 38, 91, 7, 25])\n",
    "user_name[4] # Returns the element at index 4\n",
    "\n",
    "articles[3] = 17 # Assigns array element on index 1 the value 4\n",
    "\n",
    "user_name[0:3] # Returns the elements at indices 0,1,2\n",
    "\n",
    "user_name[:2] # Returns the elements at indices 0,1\n",
    "\n",
    "articles<50 # Returns an array with boolean values\n",
    "\n",
    "articles[articles < 50] # Returns the element values\n",
    "array([38,  7, 25])\n",
    "# Returns the user_name that read more than 50 articles but less than 100 articles\n",
    "user_name[(articles < 100 ) & (articles >50)]\n",
    "\n",
    "# Multi-dimensinal arrays\n",
    "arr[2,5] # Returns the 2D array element on index [2][5]\n",
    "arr[1,3]=10 # Assigns array element on index [1][3] the value 10\n",
    "arr[0:3] # Returns rows 0,1,2\n",
    "arr[0:3,4] # Returns the elements on rows 0,1,2 at column 4\n",
    "arr[:2] # Returns returns rows 0,1\n",
    "arr[:,1] # Returns the elements at index 1 on all rows"
   ]
  },
  {
   "cell_type": "markdown",
   "metadata": {},
   "source": [
    "# Statistical Operations"
   ]
  },
  {
   "cell_type": "code",
   "execution_count": null,
   "metadata": {},
   "outputs": [],
   "source": [
    "np.mean(arr,axis=0) # Returns mean along specific axis\n",
    "arr.sum() # Returns sum of arr\n",
    "arr.min() # Returns minimum value of arr\n",
    "arr.max(axis=0) # Returns maximum value of specific axis\n",
    "b.cumsum(axis=1) #Cumulative sum of the elements\n",
    "np.var(arr) # Returns the variance of array\n",
    "np.std(arr,axis=1) # Returns the standard deviation of specific axis\n",
    "arr.corrcoef() # Returns correlation coefficient of array"
   ]
  },
  {
   "cell_type": "code",
   "execution_count": null,
   "metadata": {},
   "outputs": [],
   "source": []
  }
 ],
 "metadata": {
  "kernelspec": {
   "display_name": "Python 3",
   "language": "python",
   "name": "python3"
  },
  "language_info": {
   "codemirror_mode": {
    "name": "ipython",
    "version": 3
   },
   "file_extension": ".py",
   "mimetype": "text/x-python",
   "name": "python",
   "nbconvert_exporter": "python",
   "pygments_lexer": "ipython3",
   "version": "3.7.12"
  }
 },
 "nbformat": 4,
 "nbformat_minor": 4
}
